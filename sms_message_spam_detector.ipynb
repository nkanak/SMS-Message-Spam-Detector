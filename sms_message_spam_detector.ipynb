{
 "cells": [
  {
   "cell_type": "code",
   "execution_count": 1,
   "metadata": {},
   "outputs": [],
   "source": [
    "import pandas as pd\n",
    "from sklearn.naive_bayes import MultinomialNB\n",
    "from sklearn.model_selection import train_test_split\n",
    "from sklearn.feature_extraction.text import CountVectorizer\n",
    "from sklearn.linear_model import LogisticRegression\n",
    "from sklearn.svm import SVC\n",
    "from sklearn.neural_network import MLPClassifier\n",
    "%matplotlib inline"
   ]
  },
  {
   "cell_type": "code",
   "execution_count": 2,
   "metadata": {},
   "outputs": [],
   "source": [
    "df= pd.read_csv(\"spam.csv\", encoding=\"latin-1\")\n",
    "df.drop(['Unnamed: 2', 'Unnamed: 3', 'Unnamed: 4'], axis=1, inplace=True)\n",
    "df['label'] = df['class'].map({'ham': 0, 'spam': 1})"
   ]
  },
  {
   "cell_type": "code",
   "execution_count": 3,
   "metadata": {},
   "outputs": [
    {
     "data": {
      "text/plain": [
       "Text(0, 0.5, 'count')"
      ]
     },
     "execution_count": 3,
     "metadata": {},
     "output_type": "execute_result"
    },
    {
     "data": {
      "image/png": "[encoded data removed]",
      "text/plain": [
       "<Figure size 432x288 with 1 Axes>"
      ]
     },
     "metadata": {
      "needs_background": "light"
     },
     "output_type": "display_data"
    }
   ],
   "source": [
    "ax = df['class'].value_counts().plot(kind='bar')\n",
    "ax.set_xlabel('class')\n",
    "ax.set_ylabel('count')"
   ]
  },
  {
   "cell_type": "code",
   "execution_count": 4,
   "metadata": {},
   "outputs": [],
   "source": [
    "X = df['message']\n",
    "y = df['label']\n",
    "cv = CountVectorizer()\n",
    "X = cv.fit_transform(X)\n",
    "X_train, X_test, y_train, y_test = train_test_split(X, y, test_size=0.33, random_state=42)"
   ]
  },
  {
   "cell_type": "code",
   "execution_count": 5,
   "metadata": {},
   "outputs": [
    {
     "data": {
      "text/plain": [
       "0.9793365959760739"
      ]
     },
     "execution_count": 5,
     "metadata": {},
     "output_type": "execute_result"
    }
   ],
   "source": [
    "#Naive Bayes Classifier\n",
    "naive_clf = MultinomialNB()\n",
    "naive_clf.fit(X_train,y_train)\n",
    "naive_clf.score(X_test,y_test)"
   ]
  },
  {
   "cell_type": "code",
   "execution_count": 6,
   "metadata": {},
   "outputs": [
    {
     "data": {
      "text/plain": [
       "0.9798803697661773"
      ]
     },
     "execution_count": 6,
     "metadata": {},
     "output_type": "execute_result"
    }
   ],
   "source": [
    "# Logistic Regression Classifier\n",
    "logistic_clf = LogisticRegression(random_state=0, solver='lbfgs', multi_class='multinomial').fit(X_train, y_train)\n",
    "logistic_clf.score(X_test, y_test)"
   ]
  },
  {
   "cell_type": "code",
   "execution_count": 7,
   "metadata": {},
   "outputs": [
    {
     "data": {
      "text/plain": [
       "0.8629690048939641"
      ]
     },
     "execution_count": 7,
     "metadata": {},
     "output_type": "execute_result"
    }
   ],
   "source": [
    "# SVM classifier\n",
    "svm_clf = SVC(gamma='auto').fit(X_train, y_train)\n",
    "svm_clf.score(X_test, y_test)"
   ]
  },
  {
   "cell_type": "code",
   "execution_count": 8,
   "metadata": {},
   "outputs": [
    {
     "data": {
      "text/plain": [
       "0.9831430125067971"
      ]
     },
     "execution_count": 8,
     "metadata": {},
     "output_type": "execute_result"
    }
   ],
   "source": [
    "# Neural Network Classifier\n",
    "neural_clf = MLPClassifier(solver='lbfgs', alpha=1e-5, hidden_layer_sizes=(5, 2), random_state=1).fit(X_train, y_train)\n",
    "neural_clf.score(X_test, y_test)"
   ]
  },
  {
   "cell_type": "code",
   "execution_count": 9,
   "metadata": {},
   "outputs": [],
   "source": [
    "def test_classifiers(text):\n",
    "    print('Text:')\n",
    "    print(text)\n",
    "    print('Predictions:')\n",
    "    # Naive Bayes prediction\n",
    "    print('Naive Bayes: ', naive_clf.predict(cv.transform([text])))\n",
    "    # Logistic regression prediction\n",
    "    print('Logistic Regression: ', logistic_clf.predict(cv.transform([text])))\n",
    "    # SVM prediction\n",
    "    print('SVM:', svm_clf.predict(cv.transform([text])))\n",
    "    # Neural network prediction\n",
    "    print('Neural network: ', neural_clf.predict(cv.transform([text])))"
   ]
  },
  {
   "cell_type": "code",
   "execution_count": 10,
   "metadata": {},
   "outputs": [
    {
     "name": "stdout",
     "output_type": "stream",
     "text": [
      "Text:\n",
      "User #25384: Your Gmail profile has been compromised. Text back SENDNOW in order to reactivate your account.\n",
      "Predictions:\n",
      "Naive Bayes:  [1]\n",
      "Logistic Regression:  [1]\n",
      "SVM: [0]\n",
      "Neural network:  [1]\n",
      "Text:\n",
      "Our records indicate your Pension is under performing to see higher growth and up to 25% cash release reply PENSION for a free review. To opt out reply STOP\n",
      "Predictions:\n",
      "Naive Bayes:  [1]\n",
      "Logistic Regression:  [1]\n",
      "SVM: [0]\n",
      "Neural network:  [1]\n",
      "Text:\n",
      "Due to a new legislation, those struggling with debt can now apply to have it written off. For more information text the word INFO or to opt out text STOP\n",
      "Predictions:\n",
      "Naive Bayes:  [1]\n",
      "Logistic Regression:  [1]\n",
      "SVM: [0]\n",
      "Neural network:  [1]\n",
      "Text:\n",
      "IMPORTANT - You could be entitled up to £3,160 in compensation from mis-sold PPI on a credit card or loan. Please reply PPI for info or STOP to opt out\n",
      "Predictions:\n",
      "Naive Bayes:  [1]\n",
      "Logistic Regression:  [1]\n",
      "SVM: [0]\n",
      "Neural network:  [1]\n",
      "Text:\n",
      "\n",
      "Predictions:\n",
      "Naive Bayes:  [0]\n",
      "Logistic Regression:  [0]\n",
      "SVM: [0]\n",
      "Neural network:  [0]\n"
     ]
    }
   ],
   "source": [
    "test_classifiers('User #25384: Your Gmail profile has been compromised. Text back SENDNOW in order to reactivate your account.')\n",
    "test_classifiers('Our records indicate your Pension is under performing to see higher growth and up to 25% cash release reply PENSION for a free review. To opt out reply STOP')\n",
    "test_classifiers('Due to a new legislation, those struggling with debt can now apply to have it written off. For more information text the word INFO or to opt out text STOP')\n",
    "test_classifiers('IMPORTANT - You could be entitled up to £3,160 in compensation from mis-sold PPI on a credit card or loan. Please reply PPI for info or STOP to opt out')\n",
    "test_classifiers('')"
   ]
  },
  {
   "cell_type": "code",
   "execution_count": null,
   "metadata": {},
   "outputs": [],
   "source": []
  }
 ],
 "metadata": {
  "kernelspec": {
   "display_name": "Python 3",
   "language": "python",
   "name": "python3"
  },
  "language_info": {
   "codemirror_mode": {
    "name": "ipython",
    "version": 3
   },
   "file_extension": ".py",
   "mimetype": "text/x-python",
   "name": "python",
   "nbconvert_exporter": "python",
   "pygments_lexer": "ipython3",
   "version": "3.7.0"
  }
 },
 "nbformat": 4,
 "nbformat_minor": 2
}
